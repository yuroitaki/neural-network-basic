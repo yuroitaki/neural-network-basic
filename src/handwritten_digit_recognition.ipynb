{
 "cells": [
  {
   "cell_type": "code",
   "execution_count": 1,
   "metadata": {},
   "outputs": [],
   "source": [
    "import mnist_loader"
   ]
  },
  {
   "cell_type": "code",
   "execution_count": 27,
   "metadata": {},
   "outputs": [
    {
     "name": "stdout",
     "output_type": "stream",
     "text": [
      "Len of training data: 50000\n",
      "Len of validation data: 10000\n",
      "Len of test data: 10000\n",
      "Training input size: (784, 1)\n",
      "Training label size: (10, 1)\n",
      "Validation input size: (784, 1)\n",
      "Validation label size: ()\n",
      "Example training label: [[ 0.]\n",
      " [ 0.]\n",
      " [ 0.]\n",
      " [ 0.]\n",
      " [ 0.]\n",
      " [ 1.]\n",
      " [ 0.]\n",
      " [ 0.]\n",
      " [ 0.]\n",
      " [ 0.]]\n",
      "Example validation label: 3\n"
     ]
    }
   ],
   "source": [
    "training_data, validation_data, test_data = mnist_loader.load_data_wrapper()\n",
    "print('Len of training data: {}'.format(len(training_data)))\n",
    "print('Len of validation data: {}'.format(len(validation_data)))\n",
    "print('Len of test data: {}'.format(len(test_data)))\n",
    "print('Training input size: {}'.format(training_data[0][0].shape))\n",
    "print('Training label size: {}'.format(training_data[0][1].shape))\n",
    "print('Validation input size: {}'.format(validation_data[0][0].shape))\n",
    "print('Validation label size: {}'.format(validation_data[0][1].shape))\n",
    "print('Example training label: {}'.format(training_data[0][1]))\n",
    "print('Example validation label: {}'.format(validation_data[0][1]))"
   ]
  },
  {
   "cell_type": "code",
   "execution_count": 26,
   "metadata": {},
   "outputs": [
    {
     "name": "stdout",
     "output_type": "stream",
     "text": [
      "Size of neural network: [784, 30, 10]\n",
      "No of layers of neural network: 3\n",
      "Len of weight list of neural network: 2\n",
      "Shape of input-to-hidden layer weight matrix of neural network: (30, 784)\n",
      "Shape of hidden-to-output layer weight matrix of neural network: (10, 30)\n",
      "Len of bias list of neural network: 2\n",
      "Shape of hidden layer biases of neural network: (30, 1)\n",
      "Shape of output layer biases of neural network: (10, 1)\n"
     ]
    }
   ],
   "source": [
    "import network\n",
    "\n",
    "no_input_neurons = 784\n",
    "no_hidden_neurons = 30\n",
    "no_output_neurons = 10\n",
    "\n",
    "net = network.Network([no_input_neurons, no_hidden_neurons, no_output_neurons])\n",
    "print('Size of neural network: {}'.format(net.sizes))\n",
    "print('No of layers of neural network: {}'.format(net.num_layers))\n",
    "print('Len of weight list of neural network: {}'.format(len(net.weights)))\n",
    "print('Shape of input-to-hidden layer weight matrix of neural network: {}'.format(net.weights[0].shape))\n",
    "print('Shape of hidden-to-output layer weight matrix of neural network: {}'.format(net.weights[1].shape))\n",
    "print('Len of bias list of neural network: {}'.format(len(net.biases)))\n",
    "print('Shape of hidden layer biases of neural network: {}'.format(net.biases[0].shape))\n",
    "print('Shape of output layer biases of neural network: {}'.format(net.biases[1].shape))"
   ]
  },
  {
   "cell_type": "code",
   "execution_count": null,
   "metadata": {},
   "outputs": [
    {
     "name": "stdout",
     "output_type": "stream",
     "text": [
      "Epoch 0: 9070 / 10000\n",
      "Epoch 1: 9168 / 10000\n",
      "Epoch 2: 9301 / 10000\n",
      "Epoch 3: 9314 / 10000\n",
      "Epoch 4: 9426 / 10000\n",
      "Epoch 5: 9412 / 10000\n",
      "Epoch 6: 9379 / 10000\n",
      "Epoch 7: 9409 / 10000\n",
      "Epoch 8: 9443 / 10000\n",
      "Epoch 9: 9450 / 10000\n",
      "Epoch 10: 9479 / 10000\n",
      "Epoch 11: 9465 / 10000\n",
      "Epoch 12: 9462 / 10000\n",
      "Epoch 13: 9480 / 10000\n",
      "Epoch 14: 9482 / 10000\n",
      "Epoch 15: 9476 / 10000\n",
      "Epoch 16: 9472 / 10000\n",
      "Epoch 17: 9495 / 10000\n",
      "Epoch 18: 9508 / 10000\n",
      "Epoch 19: 9492 / 10000\n",
      "Epoch 20: 9487 / 10000\n"
     ]
    }
   ],
   "source": [
    "epoch = 30\n",
    "batch_size = 10\n",
    "learning_rate = 3.0\n",
    "net.SGD(training_data, epoch, batch_size, learning_rate, test_data)"
   ]
  },
  {
   "cell_type": "code",
   "execution_count": null,
   "metadata": {},
   "outputs": [],
   "source": []
  }
 ],
 "metadata": {
  "kernelspec": {
   "display_name": "Python 2",
   "language": "python",
   "name": "python2"
  },
  "language_info": {
   "codemirror_mode": {
    "name": "ipython",
    "version": 2
   },
   "file_extension": ".py",
   "mimetype": "text/x-python",
   "name": "python",
   "nbconvert_exporter": "python",
   "pygments_lexer": "ipython2",
   "version": "2.7.16"
  }
 },
 "nbformat": 4,
 "nbformat_minor": 2
}