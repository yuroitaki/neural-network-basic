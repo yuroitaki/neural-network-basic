{
 "cells": [
  {
   "cell_type": "markdown",
   "metadata": {},
   "source": [
    "## Loading data"
   ]
  },
  {
   "cell_type": "code",
   "execution_count": 1,
   "metadata": {},
   "outputs": [],
   "source": [
    "import mnist_loader"
   ]
  },
  {
   "cell_type": "code",
   "execution_count": 2,
   "metadata": {},
   "outputs": [
    {
     "name": "stdout",
     "output_type": "stream",
     "text": [
      "Len of training data: 50000\n",
      "Len of validation data: 10000\n",
      "Len of test data: 10000\n",
      "Training input size: (784, 1)\n",
      "Training label size: (10, 1)\n",
      "Validation input size: (784, 1)\n",
      "Validation label size: ()\n",
      "Example training label: [[ 0.]\n",
      " [ 0.]\n",
      " [ 0.]\n",
      " [ 0.]\n",
      " [ 0.]\n",
      " [ 1.]\n",
      " [ 0.]\n",
      " [ 0.]\n",
      " [ 0.]\n",
      " [ 0.]]\n",
      "Example validation label: 3\n"
     ]
    }
   ],
   "source": [
    "training_data, validation_data, test_data = mnist_loader.load_data_wrapper()\n",
    "print('Len of training data: {}'.format(len(training_data)))\n",
    "print('Len of validation data: {}'.format(len(validation_data)))\n",
    "print('Len of test data: {}'.format(len(test_data)))\n",
    "print('Training input size: {}'.format(training_data[0][0].shape))\n",
    "print('Training label size: {}'.format(training_data[0][1].shape))\n",
    "print('Validation input size: {}'.format(validation_data[0][0].shape))\n",
    "print('Validation label size: {}'.format(validation_data[0][1].shape))\n",
    "print('Example training label: {}'.format(training_data[0][1]))\n",
    "print('Example validation label: {}'.format(validation_data[0][1]))"
   ]
  },
  {
   "cell_type": "markdown",
   "metadata": {},
   "source": [
    "## Neural network with hidden layers"
   ]
  },
  {
   "cell_type": "code",
   "execution_count": 30,
   "metadata": {},
   "outputs": [
    {
     "name": "stdout",
     "output_type": "stream",
     "text": [
      "Size of neural network: [784, 100, 10]\n",
      "No of layers of neural network: 3\n",
      "Len of weight list of neural network: 2\n",
      "Shape of input-to-hidden layer weight matrix of neural network: (100, 784)\n",
      "Shape of hidden-to-output layer weight matrix of neural network: (10, 100)\n",
      "Len of bias list of neural network: 2\n",
      "Shape of hidden layer biases of neural network: (100, 1)\n",
      "Shape of output layer biases of neural network: (10, 1)\n"
     ]
    }
   ],
   "source": [
    "import network\n",
    "\n",
    "no_input_neurons = 784\n",
    "no_hidden_neurons = 100\n",
    "no_output_neurons = 10\n",
    "\n",
    "net = network.Network([no_input_neurons, no_hidden_neurons, no_output_neurons])\n",
    "print('Size of neural network: {}'.format(net.sizes))\n",
    "print('No of layers of neural network: {}'.format(net.num_layers))\n",
    "print('Len of weight list of neural network: {}'.format(len(net.weights)))\n",
    "print('Shape of input-to-hidden layer weight matrix of neural network: {}'.format(net.weights[0].shape))\n",
    "print('Shape of hidden-to-output layer weight matrix of neural network: {}'.format(net.weights[1].shape))\n",
    "print('Len of bias list of neural network: {}'.format(len(net.biases)))\n",
    "print('Shape of hidden layer biases of neural network: {}'.format(net.biases[0].shape))\n",
    "print('Shape of output layer biases of neural network: {}'.format(net.biases[1].shape))"
   ]
  },
  {
   "cell_type": "code",
   "execution_count": 33,
   "metadata": {},
   "outputs": [
    {
     "name": "stdout",
     "output_type": "stream",
     "text": [
      "Epoch 0: 7606 / 10000\n",
      "Epoch 1: 7604 / 10000\n",
      "Epoch 2: 7605 / 10000\n",
      "Epoch 3: 7598 / 10000\n",
      "Epoch 4: 7603 / 10000\n",
      "Epoch 5: 8704 / 10000\n",
      "Epoch 6: 8717 / 10000\n",
      "Epoch 7: 8710 / 10000\n",
      "Epoch 8: 8734 / 10000\n",
      "Epoch 9: 8748 / 10000\n",
      "Epoch 10: 8756 / 10000\n",
      "Epoch 11: 8881 / 10000\n",
      "Epoch 12: 9574 / 10000\n",
      "Epoch 13: 9567 / 10000\n",
      "Epoch 14: 9608 / 10000\n",
      "Epoch 15: 9580 / 10000\n",
      "Epoch 16: 9597 / 10000\n",
      "Epoch 17: 9614 / 10000\n",
      "Epoch 18: 9633 / 10000\n",
      "Epoch 19: 9613 / 10000\n",
      "Epoch 20: 9623 / 10000\n",
      "Epoch 21: 9647 / 10000\n",
      "Epoch 22: 9636 / 10000\n",
      "Epoch 23: 9647 / 10000\n",
      "Epoch 24: 9630 / 10000\n",
      "Epoch 25: 9659 / 10000\n",
      "Epoch 26: 9638 / 10000\n",
      "Epoch 27: 9638 / 10000\n",
      "Epoch 28: 9633 / 10000\n",
      "Epoch 29: 9642 / 10000\n"
     ]
    }
   ],
   "source": [
    "epoch = 30\n",
    "batch_size = 10\n",
    "learning_rate = 3.0\n",
    "net.SGD(training_data, epoch, batch_size, learning_rate, test_data)"
   ]
  },
  {
   "cell_type": "markdown",
   "metadata": {},
   "source": [
    "## Neural network without hidden layers"
   ]
  },
  {
   "cell_type": "code",
   "execution_count": 34,
   "metadata": {},
   "outputs": [
    {
     "name": "stdout",
     "output_type": "stream",
     "text": [
      "Epoch 0: 5035 / 10000\n",
      "Epoch 1: 6028 / 10000\n",
      "Epoch 2: 6561 / 10000\n",
      "Epoch 3: 6624 / 10000\n",
      "Epoch 4: 6654 / 10000\n",
      "Epoch 5: 6676 / 10000\n",
      "Epoch 6: 6698 / 10000\n",
      "Epoch 7: 6889 / 10000\n",
      "Epoch 8: 7596 / 10000\n",
      "Epoch 9: 7606 / 10000\n",
      "Epoch 10: 8696 / 10000\n",
      "Epoch 11: 8986 / 10000\n",
      "Epoch 12: 9131 / 10000\n",
      "Epoch 13: 9133 / 10000\n",
      "Epoch 14: 9165 / 10000\n",
      "Epoch 15: 9145 / 10000\n",
      "Epoch 16: 9172 / 10000\n",
      "Epoch 17: 9163 / 10000\n",
      "Epoch 18: 9132 / 10000\n",
      "Epoch 19: 9162 / 10000\n",
      "Epoch 20: 9162 / 10000\n",
      "Epoch 21: 9156 / 10000\n",
      "Epoch 22: 9149 / 10000\n",
      "Epoch 23: 9170 / 10000\n",
      "Epoch 24: 9159 / 10000\n",
      "Epoch 25: 9102 / 10000\n",
      "Epoch 26: 9163 / 10000\n",
      "Epoch 27: 9169 / 10000\n",
      "Epoch 28: 9098 / 10000\n",
      "Epoch 29: 9155 / 10000\n"
     ]
    }
   ],
   "source": [
    "no_input_neurons_var = 784\n",
    "no_output_neurons_var = 10\n",
    "\n",
    "net_var = network.Network([no_input_neurons_var, no_output_neurons_var])\n",
    "\n",
    "epoch_var = 30\n",
    "batch_size_var = 10\n",
    "learning_rate_var = 3.0\n",
    "net_var.SGD(training_data, epoch_var, batch_size_var, learning_rate_var, test_data)"
   ]
  },
  {
   "cell_type": "markdown",
   "metadata": {},
   "source": [
    "## Average darkness"
   ]
  },
  {
   "cell_type": "code",
   "execution_count": 37,
   "metadata": {},
   "outputs": [
    {
     "name": "stdout",
     "output_type": "stream",
     "text": [
      "Baseline classifier using average darkness of image.\n",
      "2225 of 10000 values correct.\n"
     ]
    }
   ],
   "source": [
    "from mnist_average_darkness import main\n",
    "\n",
    "main()"
   ]
  },
  {
   "cell_type": "markdown",
   "metadata": {},
   "source": [
    "## SVM"
   ]
  },
  {
   "cell_type": "code",
   "execution_count": 38,
   "metadata": {},
   "outputs": [
    {
     "name": "stdout",
     "output_type": "stream",
     "text": [
      "Baseline classifier using an SVM.\n",
      "9435 of 10000 values correct.\n"
     ]
    }
   ],
   "source": [
    "from mnist_svm import svm_baseline\n",
    "\n",
    "svm_baseline()"
   ]
  },
  {
   "cell_type": "markdown",
   "metadata": {},
   "source": [
    "## Cross entropy cost function"
   ]
  },
  {
   "cell_type": "code",
   "execution_count": 7,
   "metadata": {},
   "outputs": [],
   "source": [
    "import network2\n",
    "\n",
    "no_input_neurons_cross = 784\n",
    "no_hidden_neurons_cross = 30\n",
    "no_output_neurons_cross = 10\n",
    "\n",
    "net2 = network2.Network(\n",
    "    [no_input_neurons_cross,\n",
    "     no_hidden_neurons_cross,\n",
    "     no_output_neurons_cross], \n",
    "    cost=network2.CrossEntropyCost\n",
    ")\n",
    "net2.large_weight_initializer() # to initialise the weights and biases the same way as network1"
   ]
  },
  {
   "cell_type": "code",
   "execution_count": 6,
   "metadata": {},
   "outputs": [
    {
     "name": "stdout",
     "output_type": "stream",
     "text": [
      "Epoch 0 training complete\n",
      "Accuracy on evaluation data: 9127 / 10000\n",
      "\n",
      "Epoch 1 training complete\n",
      "Accuracy on evaluation data: 9235 / 10000\n",
      "\n",
      "Epoch 2 training complete\n",
      "Accuracy on evaluation data: 9364 / 10000\n",
      "\n",
      "Epoch 3 training complete\n",
      "Accuracy on evaluation data: 9389 / 10000\n",
      "\n",
      "Epoch 4 training complete\n",
      "Accuracy on evaluation data: 9416 / 10000\n",
      "\n",
      "Epoch 5 training complete\n",
      "Accuracy on evaluation data: 9415 / 10000\n",
      "\n",
      "Epoch 6 training complete\n",
      "Accuracy on evaluation data: 9432 / 10000\n",
      "\n",
      "Epoch 7 training complete\n",
      "Accuracy on evaluation data: 9474 / 10000\n",
      "\n",
      "Epoch 8 training complete\n",
      "Accuracy on evaluation data: 9465 / 10000\n",
      "\n",
      "Epoch 9 training complete\n",
      "Accuracy on evaluation data: 9466 / 10000\n",
      "\n",
      "Epoch 10 training complete\n",
      "Accuracy on evaluation data: 9455 / 10000\n",
      "\n",
      "Epoch 11 training complete\n",
      "Accuracy on evaluation data: 9466 / 10000\n",
      "\n",
      "Epoch 12 training complete\n",
      "Accuracy on evaluation data: 9477 / 10000\n",
      "\n",
      "Epoch 13 training complete\n",
      "Accuracy on evaluation data: 9468 / 10000\n",
      "\n",
      "Epoch 14 training complete\n",
      "Accuracy on evaluation data: 9478 / 10000\n",
      "\n",
      "Epoch 15 training complete\n",
      "Accuracy on evaluation data: 9507 / 10000\n",
      "\n",
      "Epoch 16 training complete\n",
      "Accuracy on evaluation data: 9508 / 10000\n",
      "\n",
      "Epoch 17 training complete\n",
      "Accuracy on evaluation data: 9467 / 10000\n",
      "\n",
      "Epoch 18 training complete\n",
      "Accuracy on evaluation data: 9507 / 10000\n",
      "\n",
      "Epoch 19 training complete\n",
      "Accuracy on evaluation data: 9493 / 10000\n",
      "\n",
      "Epoch 20 training complete\n",
      "Accuracy on evaluation data: 9490 / 10000\n",
      "\n",
      "Epoch 21 training complete\n",
      "Accuracy on evaluation data: 9498 / 10000\n",
      "\n",
      "Epoch 22 training complete\n",
      "Accuracy on evaluation data: 9502 / 10000\n",
      "\n",
      "Epoch 23 training complete\n",
      "Accuracy on evaluation data: 9512 / 10000\n",
      "\n",
      "Epoch 24 training complete\n",
      "Accuracy on evaluation data: 9450 / 10000\n",
      "\n",
      "Epoch 25 training complete\n",
      "Accuracy on evaluation data: 9494 / 10000\n",
      "\n",
      "Epoch 26 training complete\n",
      "Accuracy on evaluation data: 9501 / 10000\n",
      "\n",
      "Epoch 27 training complete\n",
      "Accuracy on evaluation data: 9487 / 10000\n",
      "\n",
      "Epoch 28 training complete\n",
      "Accuracy on evaluation data: 9500 / 10000\n",
      "\n",
      "Epoch 29 training complete\n",
      "Accuracy on evaluation data: 9501 / 10000\n",
      "\n"
     ]
    },
    {
     "data": {
      "text/plain": [
       "([],\n",
       " [9127,\n",
       "  9235,\n",
       "  9364,\n",
       "  9389,\n",
       "  9416,\n",
       "  9415,\n",
       "  9432,\n",
       "  9474,\n",
       "  9465,\n",
       "  9466,\n",
       "  9455,\n",
       "  9466,\n",
       "  9477,\n",
       "  9468,\n",
       "  9478,\n",
       "  9507,\n",
       "  9508,\n",
       "  9467,\n",
       "  9507,\n",
       "  9493,\n",
       "  9490,\n",
       "  9498,\n",
       "  9502,\n",
       "  9512,\n",
       "  9450,\n",
       "  9494,\n",
       "  9501,\n",
       "  9487,\n",
       "  9500,\n",
       "  9501],\n",
       " [],\n",
       " [])"
      ]
     },
     "execution_count": 6,
     "metadata": {},
     "output_type": "execute_result"
    }
   ],
   "source": [
    "epoch_cross = 30\n",
    "batch_size_cross = 10\n",
    "learning_rate_cross = 0.5\n",
    "\n",
    "net2.SGD(\n",
    "    training_data,\n",
    "    epoch_cross,\n",
    "    batch_size_cross,\n",
    "    learning_rate_cross,\n",
    "    evaluation_data=test_data,\n",
    "    monitor_evaluation_accuracy=True\n",
    ")"
   ]
  },
  {
   "cell_type": "markdown",
   "metadata": {},
   "source": [
    "## Variant with 100 hidden neurons"
   ]
  },
  {
   "cell_type": "code",
   "execution_count": 8,
   "metadata": {},
   "outputs": [
    {
     "name": "stdout",
     "output_type": "stream",
     "text": [
      "Epoch 0 training complete\n",
      "Accuracy on evaluation data: 9328 / 10000\n",
      "\n",
      "Epoch 1 training complete\n",
      "Accuracy on evaluation data: 9473 / 10000\n",
      "\n",
      "Epoch 2 training complete\n",
      "Accuracy on evaluation data: 9533 / 10000\n",
      "\n",
      "Epoch 3 training complete\n",
      "Accuracy on evaluation data: 9555 / 10000\n",
      "\n",
      "Epoch 4 training complete\n",
      "Accuracy on evaluation data: 9551 / 10000\n",
      "\n",
      "Epoch 5 training complete\n",
      "Accuracy on evaluation data: 9599 / 10000\n",
      "\n",
      "Epoch 6 training complete\n",
      "Accuracy on evaluation data: 9614 / 10000\n",
      "\n",
      "Epoch 7 training complete\n",
      "Accuracy on evaluation data: 9612 / 10000\n",
      "\n",
      "Epoch 8 training complete\n",
      "Accuracy on evaluation data: 9634 / 10000\n",
      "\n",
      "Epoch 9 training complete\n",
      "Accuracy on evaluation data: 9633 / 10000\n",
      "\n",
      "Epoch 10 training complete\n",
      "Accuracy on evaluation data: 9632 / 10000\n",
      "\n",
      "Epoch 11 training complete\n",
      "Accuracy on evaluation data: 9640 / 10000\n",
      "\n",
      "Epoch 12 training complete\n",
      "Accuracy on evaluation data: 9654 / 10000\n",
      "\n",
      "Epoch 13 training complete\n",
      "Accuracy on evaluation data: 9656 / 10000\n",
      "\n",
      "Epoch 14 training complete\n",
      "Accuracy on evaluation data: 9660 / 10000\n",
      "\n",
      "Epoch 15 training complete\n",
      "Accuracy on evaluation data: 9651 / 10000\n",
      "\n",
      "Epoch 16 training complete\n",
      "Accuracy on evaluation data: 9659 / 10000\n",
      "\n",
      "Epoch 17 training complete\n",
      "Accuracy on evaluation data: 9653 / 10000\n",
      "\n",
      "Epoch 18 training complete\n",
      "Accuracy on evaluation data: 9666 / 10000\n",
      "\n",
      "Epoch 19 training complete\n",
      "Accuracy on evaluation data: 9656 / 10000\n",
      "\n",
      "Epoch 20 training complete\n",
      "Accuracy on evaluation data: 9667 / 10000\n",
      "\n",
      "Epoch 21 training complete\n",
      "Accuracy on evaluation data: 9668 / 10000\n",
      "\n",
      "Epoch 22 training complete\n",
      "Accuracy on evaluation data: 9661 / 10000\n",
      "\n",
      "Epoch 23 training complete\n",
      "Accuracy on evaluation data: 9639 / 10000\n",
      "\n",
      "Epoch 24 training complete\n",
      "Accuracy on evaluation data: 9661 / 10000\n",
      "\n",
      "Epoch 25 training complete\n",
      "Accuracy on evaluation data: 9657 / 10000\n",
      "\n",
      "Epoch 26 training complete\n",
      "Accuracy on evaluation data: 9654 / 10000\n",
      "\n",
      "Epoch 27 training complete\n",
      "Accuracy on evaluation data: 9645 / 10000\n",
      "\n",
      "Epoch 28 training complete\n",
      "Accuracy on evaluation data: 9656 / 10000\n",
      "\n",
      "Epoch 29 training complete\n",
      "Accuracy on evaluation data: 9649 / 10000\n",
      "\n"
     ]
    },
    {
     "data": {
      "text/plain": [
       "([],\n",
       " [9328,\n",
       "  9473,\n",
       "  9533,\n",
       "  9555,\n",
       "  9551,\n",
       "  9599,\n",
       "  9614,\n",
       "  9612,\n",
       "  9634,\n",
       "  9633,\n",
       "  9632,\n",
       "  9640,\n",
       "  9654,\n",
       "  9656,\n",
       "  9660,\n",
       "  9651,\n",
       "  9659,\n",
       "  9653,\n",
       "  9666,\n",
       "  9656,\n",
       "  9667,\n",
       "  9668,\n",
       "  9661,\n",
       "  9639,\n",
       "  9661,\n",
       "  9657,\n",
       "  9654,\n",
       "  9645,\n",
       "  9656,\n",
       "  9649],\n",
       " [],\n",
       " [])"
      ]
     },
     "execution_count": 8,
     "metadata": {},
     "output_type": "execute_result"
    }
   ],
   "source": [
    "no_input_neurons_cross_var = 784\n",
    "no_hidden_neurons_cross_var = 100\n",
    "no_output_neurons_cross_var = 10\n",
    "\n",
    "net2_var = network2.Network([\n",
    "    no_input_neurons_cross_var,\n",
    "    no_hidden_neurons_cross_var,\n",
    "    no_output_neurons_cross_var],\n",
    "    cost=network2.CrossEntropyCost\n",
    ")\n",
    "net2_var.large_weight_initializer() # to initialise the weights and biases the same way as network1\n",
    "\n",
    "epoch_cross_var = 30\n",
    "batch_size_cross_var = 10\n",
    "learning_rate_cross_var = 0.5\n",
    "\n",
    "net2_var.SGD(\n",
    "    training_data,\n",
    "    epoch_cross_var,\n",
    "    batch_size_cross_var,\n",
    "    learning_rate_cross_var,\n",
    "    evaluation_data=test_data,\n",
    "    monitor_evaluation_accuracy=True\n",
    ")"
   ]
  }
 ],
 "metadata": {
  "kernelspec": {
   "display_name": "Python 2",
   "language": "python",
   "name": "python2"
  },
  "language_info": {
   "codemirror_mode": {
    "name": "ipython",
    "version": 2
   },
   "file_extension": ".py",
   "mimetype": "text/x-python",
   "name": "python",
   "nbconvert_exporter": "python",
   "pygments_lexer": "ipython2",
   "version": "2.7.16"
  }
 },
 "nbformat": 4,
 "nbformat_minor": 2
}
