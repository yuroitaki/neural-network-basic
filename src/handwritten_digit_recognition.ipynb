{
 "cells": [
  {
   "cell_type": "markdown",
   "metadata": {},
   "source": [
    "## Loading data"
   ]
  },
  {
   "cell_type": "code",
   "execution_count": 1,
   "metadata": {},
   "outputs": [],
   "source": [
    "import mnist_loader"
   ]
  },
  {
   "cell_type": "code",
   "execution_count": 27,
   "metadata": {},
   "outputs": [
    {
     "name": "stdout",
     "output_type": "stream",
     "text": [
      "Len of training data: 50000\n",
      "Len of validation data: 10000\n",
      "Len of test data: 10000\n",
      "Training input size: (784, 1)\n",
      "Training label size: (10, 1)\n",
      "Validation input size: (784, 1)\n",
      "Validation label size: ()\n",
      "Example training label: [[ 0.]\n",
      " [ 0.]\n",
      " [ 0.]\n",
      " [ 0.]\n",
      " [ 0.]\n",
      " [ 1.]\n",
      " [ 0.]\n",
      " [ 0.]\n",
      " [ 0.]\n",
      " [ 0.]]\n",
      "Example validation label: 3\n"
     ]
    }
   ],
   "source": [
    "training_data, validation_data, test_data = mnist_loader.load_data_wrapper()\n",
    "print('Len of training data: {}'.format(len(training_data)))\n",
    "print('Len of validation data: {}'.format(len(validation_data)))\n",
    "print('Len of test data: {}'.format(len(test_data)))\n",
    "print('Training input size: {}'.format(training_data[0][0].shape))\n",
    "print('Training label size: {}'.format(training_data[0][1].shape))\n",
    "print('Validation input size: {}'.format(validation_data[0][0].shape))\n",
    "print('Validation label size: {}'.format(validation_data[0][1].shape))\n",
    "print('Example training label: {}'.format(training_data[0][1]))\n",
    "print('Example validation label: {}'.format(validation_data[0][1]))"
   ]
  },
  {
   "cell_type": "markdown",
   "metadata": {},
   "source": [
    "## Neural network with hidden layers"
   ]
  },
  {
   "cell_type": "code",
   "execution_count": 30,
   "metadata": {},
   "outputs": [
    {
     "name": "stdout",
     "output_type": "stream",
     "text": [
      "Size of neural network: [784, 100, 10]\n",
      "No of layers of neural network: 3\n",
      "Len of weight list of neural network: 2\n",
      "Shape of input-to-hidden layer weight matrix of neural network: (100, 784)\n",
      "Shape of hidden-to-output layer weight matrix of neural network: (10, 100)\n",
      "Len of bias list of neural network: 2\n",
      "Shape of hidden layer biases of neural network: (100, 1)\n",
      "Shape of output layer biases of neural network: (10, 1)\n"
     ]
    }
   ],
   "source": [
    "import network\n",
    "\n",
    "no_input_neurons = 784\n",
    "no_hidden_neurons = 100\n",
    "no_output_neurons = 10\n",
    "\n",
    "net = network.Network([no_input_neurons, no_hidden_neurons, no_output_neurons])\n",
    "print('Size of neural network: {}'.format(net.sizes))\n",
    "print('No of layers of neural network: {}'.format(net.num_layers))\n",
    "print('Len of weight list of neural network: {}'.format(len(net.weights)))\n",
    "print('Shape of input-to-hidden layer weight matrix of neural network: {}'.format(net.weights[0].shape))\n",
    "print('Shape of hidden-to-output layer weight matrix of neural network: {}'.format(net.weights[1].shape))\n",
    "print('Len of bias list of neural network: {}'.format(len(net.biases)))\n",
    "print('Shape of hidden layer biases of neural network: {}'.format(net.biases[0].shape))\n",
    "print('Shape of output layer biases of neural network: {}'.format(net.biases[1].shape))"
   ]
  },
  {
   "cell_type": "code",
   "execution_count": 33,
   "metadata": {},
   "outputs": [
    {
     "name": "stdout",
     "output_type": "stream",
     "text": [
      "Epoch 0: 7606 / 10000\n",
      "Epoch 1: 7604 / 10000\n",
      "Epoch 2: 7605 / 10000\n",
      "Epoch 3: 7598 / 10000\n",
      "Epoch 4: 7603 / 10000\n",
      "Epoch 5: 8704 / 10000\n",
      "Epoch 6: 8717 / 10000\n",
      "Epoch 7: 8710 / 10000\n",
      "Epoch 8: 8734 / 10000\n",
      "Epoch 9: 8748 / 10000\n",
      "Epoch 10: 8756 / 10000\n",
      "Epoch 11: 8881 / 10000\n",
      "Epoch 12: 9574 / 10000\n",
      "Epoch 13: 9567 / 10000\n",
      "Epoch 14: 9608 / 10000\n",
      "Epoch 15: 9580 / 10000\n",
      "Epoch 16: 9597 / 10000\n",
      "Epoch 17: 9614 / 10000\n",
      "Epoch 18: 9633 / 10000\n",
      "Epoch 19: 9613 / 10000\n",
      "Epoch 20: 9623 / 10000\n",
      "Epoch 21: 9647 / 10000\n",
      "Epoch 22: 9636 / 10000\n",
      "Epoch 23: 9647 / 10000\n",
      "Epoch 24: 9630 / 10000\n",
      "Epoch 25: 9659 / 10000\n",
      "Epoch 26: 9638 / 10000\n",
      "Epoch 27: 9638 / 10000\n",
      "Epoch 28: 9633 / 10000\n",
      "Epoch 29: 9642 / 10000\n"
     ]
    }
   ],
   "source": [
    "epoch = 30\n",
    "batch_size = 10\n",
    "learning_rate = 3.0\n",
    "net.SGD(training_data, epoch, batch_size, learning_rate, test_data)"
   ]
  },
  {
   "cell_type": "markdown",
   "metadata": {},
   "source": [
    "## Neural network without hidden layers"
   ]
  },
  {
   "cell_type": "code",
   "execution_count": 34,
   "metadata": {},
   "outputs": [
    {
     "name": "stdout",
     "output_type": "stream",
     "text": [
      "Epoch 0: 5035 / 10000\n",
      "Epoch 1: 6028 / 10000\n",
      "Epoch 2: 6561 / 10000\n",
      "Epoch 3: 6624 / 10000\n",
      "Epoch 4: 6654 / 10000\n",
      "Epoch 5: 6676 / 10000\n",
      "Epoch 6: 6698 / 10000\n",
      "Epoch 7: 6889 / 10000\n",
      "Epoch 8: 7596 / 10000\n",
      "Epoch 9: 7606 / 10000\n",
      "Epoch 10: 8696 / 10000\n",
      "Epoch 11: 8986 / 10000\n",
      "Epoch 12: 9131 / 10000\n",
      "Epoch 13: 9133 / 10000\n",
      "Epoch 14: 9165 / 10000\n",
      "Epoch 15: 9145 / 10000\n",
      "Epoch 16: 9172 / 10000\n",
      "Epoch 17: 9163 / 10000\n",
      "Epoch 18: 9132 / 10000\n",
      "Epoch 19: 9162 / 10000\n",
      "Epoch 20: 9162 / 10000\n",
      "Epoch 21: 9156 / 10000\n",
      "Epoch 22: 9149 / 10000\n",
      "Epoch 23: 9170 / 10000\n",
      "Epoch 24: 9159 / 10000\n",
      "Epoch 25: 9102 / 10000\n",
      "Epoch 26: 9163 / 10000\n",
      "Epoch 27: 9169 / 10000\n",
      "Epoch 28: 9098 / 10000\n",
      "Epoch 29: 9155 / 10000\n"
     ]
    }
   ],
   "source": [
    "no_input_neurons_var = 784\n",
    "no_output_neurons_var = 10\n",
    "\n",
    "net_var = network.Network([no_input_neurons_var, no_output_neurons_var])\n",
    "\n",
    "epoch_var = 30\n",
    "batch_size_var = 10\n",
    "learning_rate_var = 3.0\n",
    "net_var.SGD(training_data, epoch_var, batch_size_var, learning_rate_var, test_data)"
   ]
  },
  {
   "cell_type": "markdown",
   "metadata": {},
   "source": [
    "## Average darkness"
   ]
  },
  {
   "cell_type": "code",
   "execution_count": 37,
   "metadata": {},
   "outputs": [
    {
     "name": "stdout",
     "output_type": "stream",
     "text": [
      "Baseline classifier using average darkness of image.\n",
      "2225 of 10000 values correct.\n"
     ]
    }
   ],
   "source": [
    "from mnist_average_darkness import main\n",
    "\n",
    "main()"
   ]
  },
  {
   "cell_type": "markdown",
   "metadata": {},
   "source": [
    "## SVM"
   ]
  },
  {
   "cell_type": "code",
   "execution_count": 38,
   "metadata": {},
   "outputs": [
    {
     "name": "stdout",
     "output_type": "stream",
     "text": [
      "Baseline classifier using an SVM.\n",
      "9435 of 10000 values correct.\n"
     ]
    }
   ],
   "source": [
    "from mnist_svm import svm_baseline\n",
    "\n",
    "svm_baseline()"
   ]
  }
 ],
 "metadata": {
  "kernelspec": {
   "display_name": "Python 2",
   "language": "python",
   "name": "python2"
  },
  "language_info": {
   "codemirror_mode": {
    "name": "ipython",
    "version": 2
   },
   "file_extension": ".py",
   "mimetype": "text/x-python",
   "name": "python",
   "nbconvert_exporter": "python",
   "pygments_lexer": "ipython2",
   "version": "2.7.16"
  }
 },
 "nbformat": 4,
 "nbformat_minor": 2
}
